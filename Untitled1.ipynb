{
 "cells": [
  {
   "cell_type": "code",
   "execution_count": null,
   "id": "cd1afb4b",
   "metadata": {},
   "outputs": [],
   "source": [
    "import glob\n",
    "import torch"
   ]
  },
  {
   "cell_type": "code",
   "execution_count": null,
   "id": "ffcc9f3f",
   "metadata": {},
   "outputs": [],
   "source": [
    "glob.glob(\"output_data/*/pyavi/tracks/*.avi\")"
   ]
  },
  {
   "cell_type": "code",
   "execution_count": null,
   "id": "19834873",
   "metadata": {},
   "outputs": [],
   "source": [
    "print(list(range(1, 10, 3)))"
   ]
  },
  {
   "cell_type": "code",
   "execution_count": null,
   "id": "78aff4da",
   "metadata": {},
   "outputs": [],
   "source": [
    "class VideoIterableDataset(torch.utils.data.IterableDataset):\n",
    "    \n",
    "    def __init__(self, path):\n",
    "        super(VideoIterableDataset).__init__()\n",
    "        self.utts = []\n",
    "        self.mp4s = []\n",
    "        with open(path, 'r') as f:\n",
    "            for i, line in enumerate(f):\n",
    "                utt, _, _, _, _, mp4, _ = line.strip().split(None, 6)\n",
    "                print(utt)\n",
    "                print(mp4)\n",
    "                self.utts.append(utt)\n",
    "                self.mp4s.append(mp4)\n",
    "    \n",
    "    def __iter__(self):\n",
    "        worker_info = torch.utils.data.get_worker_info()\n",
    "        print(f\"worker info: {worker_info}\")\n",
    "        if worker_info is None:\n",
    "            offset = 0\n",
    "            shift = 1\n",
    "        else:\n",
    "            offset = worker_info.id\n",
    "            shift = worker_info.num_workers\n",
    "        for i in range(offset, len(self.utts), shift):\n",
    "            yield self.utts[i], self.load_frames(self.mp4s[i])\n",
    "    \n",
    "    def load_frames(self, videofile):\n",
    "        cap = cv2.VideoCapture(videofile)\n",
    "        frame_num = 1;\n",
    "        frames = []\n",
    "        while frame_num:\n",
    "            frame_num += 1\n",
    "            ret, image = cap.read()\n",
    "            if ret == 0:\n",
    "                break\n",
    "            frames.append(cv2.resize(image, (224, 224)))\n",
    "        frames = [frames[0], frames[0]] + frames + [frames[-1], frames[-1]]\n",
    "        start = time.time()\n",
    "        frames = np.stack(frames, axis=3)\n",
    "        frames = np.transpose(frames, (2,3,0,1))\n",
    "        frames = np.array([frames[:,i:i+5,:,:] for i in range(0, frames.shape[1] - 4)], dtype='float32')\n",
    "        end = time.time()\n",
    "        timetaken = end-start\n",
    "        print(f\"Time taken to reshape: {timetaken}\")\n",
    "        print(f\"frame shape: {frames[0].shape}\")\n",
    "        return frames"
   ]
  },
  {
   "cell_type": "code",
   "execution_count": null,
   "id": "73613bd0",
   "metadata": {},
   "outputs": [],
   "source": [
    "dataset = VideoIterableDataset('%s/wav.scp' % directory)\n",
    "dataloader = torch.utils.data.DataLoader(dataset, batch_size=None, shuffle=False, num_workers=8)"
   ]
  },
  {
   "cell_type": "code",
   "execution_count": null,
   "id": "f3709384",
   "metadata": {},
   "outputs": [],
   "source": [
    "glob.glob('/afs/inf.ed.ac.uk/group/cstr/datawww/asru/MGB1/scripts/*')"
   ]
  },
  {
   "cell_type": "code",
   "execution_count": null,
   "id": "cd70554e",
   "metadata": {},
   "outputs": [],
   "source": [
    "f = open( '/group/cstr/datawww/asru/MGB1/data/scoring/task2_eval.ref.ctm', 'r')\n",
    "lines = f.read()\n",
    "print(lines)\n",
    "f.close()\n"
   ]
  },
  {
   "cell_type": "code",
   "execution_count": null,
   "id": "d16c6f97",
   "metadata": {},
   "outputs": [],
   "source": [
    "!cp /afs/inf.ed.ac.uk/group/cstr/datawww/asru/MGB1/scripts/eval.task1~ ."
   ]
  },
  {
   "cell_type": "code",
   "execution_count": null,
   "id": "7df1b57d",
   "metadata": {},
   "outputs": [],
   "source": [
    "filename = \"20080505_180000_bbcfour_the_book_quiz\"\n",
    "evalfiles = glob.glob(f'/afs/inf.ed.ac.uk/group/project/nst/bbcdata/**/*{filename}*.ts', recursive=True)"
   ]
  },
  {
   "cell_type": "code",
   "execution_count": null,
   "id": "f24f4285",
   "metadata": {},
   "outputs": [],
   "source": [
    "evalfiles"
   ]
  },
  {
   "cell_type": "code",
   "execution_count": null,
   "id": "5514a66b",
   "metadata": {},
   "outputs": [],
   "source": [
    "glob.glob(\" /afs/inf.ed.ac.uk/group/project/summa/MGB1/*\")"
   ]
  },
  {
   "cell_type": "markdown",
   "id": "fb16ce07",
   "metadata": {},
   "source": [
    "# Dataloader stuff"
   ]
  },
  {
   "cell_type": "code",
   "execution_count": 1,
   "id": "c718eecc",
   "metadata": {},
   "outputs": [],
   "source": [
    "import torch \n",
    "import numpy as np\n",
    "import cv2\n",
    "import time, glob, shutil\n",
    "from matplotlib import pyplot as plt\n",
    "from syncnet_python.facetrack import *\n"
   ]
  },
  {
   "cell_type": "code",
   "execution_count": 2,
   "id": "f4baa2e6",
   "metadata": {},
   "outputs": [],
   "source": [
    "class VideoIterableDataset(torch.utils.data.IterableDataset):\n",
    "    \n",
    "    def __init__(self, data_dir):\n",
    "        super(VideoIterableDataset).__init__()\n",
    "        self.utts = []\n",
    "        self.avis = []\n",
    "        for utt in glob.glob(data_dir+'*'):\n",
    "            self.utts.append(utt)\n",
    "            avi = utt+'/pyavi/tracks/video.avi'\n",
    "            self.avis.append(avi)\n",
    "    \n",
    "    def __iter__(self):\n",
    "        worker_info = torch.utils.data.get_worker_info()\n",
    "        if worker_info is None:\n",
    "            offset = 0\n",
    "            shift = 1\n",
    "        else:\n",
    "            offset = worker_info.id\n",
    "            shift = worker_info.num_workers\n",
    "        for i in range(offset, len(self.utts), shift):\n",
    "            yield self.utts[i], self.load_frames(self.avis[i])\n",
    "    \n",
    "    def load_frames(self, videofile):\n",
    "        cap = cv2.VideoCapture(videofile)\n",
    "        frame_num = 1;\n",
    "        frames = []\n",
    "        while frame_num:\n",
    "            frame_num += 1\n",
    "            ret, image = cap.read()\n",
    "            if ret == 0:\n",
    "                break            \n",
    "            frames.append(image)\n",
    "        return frames\n"
   ]
  },
  {
   "cell_type": "code",
   "execution_count": 4,
   "id": "4ae0e974",
   "metadata": {},
   "outputs": [
    {
     "name": "stdout",
     "output_type": "stream",
     "text": [
      "[S3FD] loading with cuda:1\n",
      "[S3FD] finished loading (0.3575 sec)\n",
      "I'm here!I'm here!I'm here!I'm here!I'm here!I'm here!I'm here!\n",
      "I'm here!\n",
      "\n",
      "\n",
      "\n",
      "I'm here!\n",
      "I'm here!I'm here!\n",
      "\n",
      "I'm here!I'm here!I'm here!\n",
      "\n",
      "\n",
      "I'm here!\n",
      "\n",
      "I'm here!\n",
      "\n",
      "\n",
      "I'm here!\n",
      "0 /disk/scratch/s1768177/pipeline/output_data/ID20080505_000500_bbcone_weatherview_utt_9_align 224\n",
      "im in run!!!!\n",
      "Finished face tracking for: /disk/scratch/s1768177/pipeline/output_data/ID20080505_000500_bbcone_weatherview_utt_9_align\n",
      "1 /disk/scratch/s1768177/pipeline/output_data/ID20080505_000500_bbcone_weatherview_utt_8_align 643\n",
      "im in run!!!!\n",
      "Finished face tracking for: /disk/scratch/s1768177/pipeline/output_data/ID20080505_000500_bbcone_weatherview_utt_8_align\n",
      "2 /disk/scratch/s1768177/pipeline/output_data/ID20080505_000500_bbcone_weatherview_utt_12_align 90\n",
      "im in run!!!!\n",
      "Finished face tracking for: /disk/scratch/s1768177/pipeline/output_data/ID20080505_000500_bbcone_weatherview_utt_12_align\n",
      "3 /disk/scratch/s1768177/pipeline/output_data/ID20080505_000500_bbcone_weatherview_utt_4_align 281\n",
      "im in run!!!!\n",
      "Finished face tracking for: /disk/scratch/s1768177/pipeline/output_data/ID20080505_000500_bbcone_weatherview_utt_4_align\n",
      "4 /disk/scratch/s1768177/pipeline/output_data/ID20080505_000500_bbcone_weatherview_utt_6_align 117\n",
      "im in run!!!!\n",
      "Finished face tracking for: /disk/scratch/s1768177/pipeline/output_data/ID20080505_000500_bbcone_weatherview_utt_6_align\n",
      "5 /disk/scratch/s1768177/pipeline/output_data/ID20080505_000500_bbcone_weatherview_utt_15_align 522\n",
      "im in run!!!!\n",
      "Finished face tracking for: /disk/scratch/s1768177/pipeline/output_data/ID20080505_000500_bbcone_weatherview_utt_15_align\n",
      "6 /disk/scratch/s1768177/pipeline/output_data/ID20080505_000500_bbcone_weatherview_utt_13_align 251\n",
      "im in run!!!!\n",
      "Finished face tracking for: /disk/scratch/s1768177/pipeline/output_data/ID20080505_000500_bbcone_weatherview_utt_13_align\n",
      "7 /disk/scratch/s1768177/pipeline/output_data/ID20080505_000500_bbcone_weatherview_utt_20_align 83\n",
      "im in run!!!!\n",
      "Finished face tracking for: /disk/scratch/s1768177/pipeline/output_data/ID20080505_000500_bbcone_weatherview_utt_20_align\n",
      "8 /disk/scratch/s1768177/pipeline/output_data/ID20080505_000500_bbcone_weatherview_utt_2_align 124\n",
      "im in run!!!!\n",
      "Finished face tracking for: /disk/scratch/s1768177/pipeline/output_data/ID20080505_000500_bbcone_weatherview_utt_2_align\n",
      "9 /disk/scratch/s1768177/pipeline/output_data/ID20080505_000500_bbcone_weatherview_utt_7_align 188\n",
      "im in run!!!!\n",
      "Finished face tracking for: /disk/scratch/s1768177/pipeline/output_data/ID20080505_000500_bbcone_weatherview_utt_7_align\n",
      "10 /disk/scratch/s1768177/pipeline/output_data/ID20080505_000500_bbcone_weatherview_utt_19_align 129\n",
      "im in run!!!!\n",
      "Finished face tracking for: /disk/scratch/s1768177/pipeline/output_data/ID20080505_000500_bbcone_weatherview_utt_19_align\n",
      "11 /disk/scratch/s1768177/pipeline/output_data/ID20080505_000500_bbcone_weatherview_utt_11_align 82\n",
      "im in run!!!!\n",
      "Finished face tracking for: /disk/scratch/s1768177/pipeline/output_data/ID20080505_000500_bbcone_weatherview_utt_11_align\n",
      "12 /disk/scratch/s1768177/pipeline/output_data/ID20080505_000500_bbcone_weatherview_utt_21_align 51\n",
      "im in run!!!!\n",
      "Finished face tracking for: /disk/scratch/s1768177/pipeline/output_data/ID20080505_000500_bbcone_weatherview_utt_21_align\n",
      "13 /disk/scratch/s1768177/pipeline/output_data/ID20080505_000500_bbcone_weatherview_utt_10_align 345\n",
      "im in run!!!!\n",
      "Finished face tracking for: /disk/scratch/s1768177/pipeline/output_data/ID20080505_000500_bbcone_weatherview_utt_10_align\n",
      "14 /disk/scratch/s1768177/pipeline/output_data/ID20080505_000500_bbcone_weatherview_utt_3_align 267\n",
      "im in run!!!!\n",
      "Finished face tracking for: /disk/scratch/s1768177/pipeline/output_data/ID20080505_000500_bbcone_weatherview_utt_3_align\n",
      "15 /disk/scratch/s1768177/pipeline/output_data/ID20080505_000500_bbcone_weatherview_utt_14_align 250\n",
      "im in run!!!!\n",
      "Finished face tracking for: /disk/scratch/s1768177/pipeline/output_data/ID20080505_000500_bbcone_weatherview_utt_14_align\n",
      "16 /disk/scratch/s1768177/pipeline/output_data/ID20080505_000500_bbcone_weatherview_utt_5_align 190\n",
      "im in run!!!!\n",
      "Finished face tracking for: /disk/scratch/s1768177/pipeline/output_data/ID20080505_000500_bbcone_weatherview_utt_5_align\n"
     ]
    }
   ],
   "source": [
    "data_dir = '/disk/scratch/s1768177/pipeline/output_data/'\n",
    "dataset = VideoIterableDataset(data_dir)\n",
    "dataloader = torch.utils.data.DataLoader(dataset, batch_size=None, shuffle=False, num_workers=16)\n",
    "facetrack = FaceTrack('cuda:1')\n",
    "for i, (utt, frames) in enumerate(dataloader):\n",
    "    print(i, utt, len(frames))\n",
    "    facetrack.run(data_dir=utt, frames=frames)\n",
    "    no_faces_found = len(os.listdir(utt + \"/pycrop/tracks/\")) == 0\n",
    "    if(no_faces_found):\n",
    "        shutil.rmtree(utt)"
   ]
  },
  {
   "cell_type": "code",
   "execution_count": null,
   "id": "5625a37b",
   "metadata": {},
   "outputs": [],
   "source": [
    "# data_dir = '/disk/scratch/s1768177/pipeline/output_data/'\n",
    "# print(glob.glob(data_dir+'*/pyavi/tracks/video.avi'))"
   ]
  },
  {
   "cell_type": "code",
   "execution_count": null,
   "id": "9d3887e1",
   "metadata": {},
   "outputs": [],
   "source": [
    "videofile = '/disk/scratch/s1768177/pipeline/output_data/ID20080505_000500_bbcone_weatherview_utt_5_align/pyavi/tracks/video.avi'\n",
    "cap = cv2.VideoCapture(videofile)\n",
    "frame_num = 1;\n",
    "frames = []\n",
    "while frame_num:\n",
    "    frame_num += 1\n",
    "    ret, image = cap.read()\n",
    "    if ret == 0:\n",
    "        break\n",
    "\n",
    "    image_np = cv2.cvtColor(image, cv2.COLOR_BGR2RGB)\n",
    "\n",
    "    plt.imshow(image_np)\n",
    "    plt.title('my picture')\n",
    "    plt.show()\n",
    "    break"
   ]
  },
  {
   "cell_type": "code",
   "execution_count": null,
   "id": "bd583dd4",
   "metadata": {},
   "outputs": [],
   "source": []
  },
  {
   "cell_type": "code",
   "execution_count": null,
   "id": "59063e54",
   "metadata": {},
   "outputs": [],
   "source": []
  }
 ],
 "metadata": {
  "kernelspec": {
   "display_name": "Python 3",
   "language": "python",
   "name": "python3"
  },
  "language_info": {
   "codemirror_mode": {
    "name": "ipython",
    "version": 3
   },
   "file_extension": ".py",
   "mimetype": "text/x-python",
   "name": "python",
   "nbconvert_exporter": "python",
   "pygments_lexer": "ipython3",
   "version": "3.7.10"
  }
 },
 "nbformat": 4,
 "nbformat_minor": 5
}
